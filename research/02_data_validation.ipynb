{
 "cells": [
  {
   "cell_type": "code",
   "execution_count": 1,
   "id": "initial_id",
   "metadata": {
    "collapsed": true,
    "ExecuteTime": {
     "end_time": "2024-05-28T09:47:24.082052100Z",
     "start_time": "2024-05-28T09:47:24.076187600Z"
    }
   },
   "outputs": [],
   "source": [
    "import os"
   ]
  },
  {
   "cell_type": "code",
   "execution_count": 2,
   "outputs": [
    {
     "data": {
      "text/plain": "'C:\\\\Users\\\\iheba\\\\IdeaProjects\\\\Mlops-Text-Summarizer-Project\\\\research'"
     },
     "execution_count": 2,
     "metadata": {},
     "output_type": "execute_result"
    }
   ],
   "source": [
    "%pwd"
   ],
   "metadata": {
    "collapsed": false,
    "ExecuteTime": {
     "end_time": "2024-05-28T09:47:24.089655600Z",
     "start_time": "2024-05-28T09:47:24.080051600Z"
    }
   },
   "id": "a5b469f42c39900d"
  },
  {
   "cell_type": "code",
   "execution_count": 3,
   "outputs": [
    {
     "data": {
      "text/plain": "'C:\\\\Users\\\\iheba\\\\IdeaProjects\\\\Mlops-Text-Summarizer-Project'"
     },
     "execution_count": 3,
     "metadata": {},
     "output_type": "execute_result"
    }
   ],
   "source": [
    "os.chdir(\"../\")\n",
    "%pwd"
   ],
   "metadata": {
    "collapsed": false,
    "ExecuteTime": {
     "end_time": "2024-05-28T09:47:24.096923400Z",
     "start_time": "2024-05-28T09:47:24.088656100Z"
    }
   },
   "id": "35dfda057774e6f7"
  },
  {
   "cell_type": "code",
   "execution_count": 45,
   "outputs": [],
   "source": [
    "from dataclasses import dataclass\n",
    "from pathlib import Path\n",
    "\n",
    "\n",
    "@dataclass(frozen=True)\n",
    "class DataValidationConfig:\n",
    "    root_dir: Path\n",
    "    STATUS_FILE: str\n",
    "    ALL_REQUIRED_ARROW_FILES: list\n",
    "    ALL_REQUIRED_CSV_FILES: list\n",
    "    REQUIRED_COLUMNS: list\n",
    "    EXPECTED_DATA_TYPES: dict\n",
    "    MINIMUM_DATA_QUANTITY: dict\n",
    "    "
   ],
   "metadata": {
    "collapsed": false,
    "ExecuteTime": {
     "end_time": "2024-05-28T10:57:19.880485300Z",
     "start_time": "2024-05-28T10:57:19.875548200Z"
    }
   },
   "id": "e3e4a6e80a4c1fea"
  },
  {
   "cell_type": "code",
   "execution_count": 46,
   "outputs": [],
   "source": [
    "from text_Summarizer.constants import *\n",
    "from text_Summarizer.utils.common import read_yaml, create_directories\n",
    "\n",
    "\n",
    "class ConfigurationManager:\n",
    "    def __init__(\n",
    "            self,\n",
    "            config_filepath=CONFIG_FILE_PATH,\n",
    "            params_filepath=PARAMS_FILE_PATH):\n",
    "        self.config = read_yaml(config_filepath)\n",
    "        self.params = read_yaml(params_filepath)\n",
    "\n",
    "        create_directories([self.config.artifacts_root])\n",
    "\n",
    "    def get_data_validation_config(self) -> DataValidationConfig:\n",
    "        config = self.config.data_validation\n",
    "\n",
    "        create_directories([config.root_dir])\n",
    "\n",
    "        data_validation_config = DataValidationConfig(\n",
    "            root_dir=config.root_dir,\n",
    "            STATUS_FILE=config.STATUS_FILE,\n",
    "            ALL_REQUIRED_ARROW_FILES=config.ALL_REQUIRED_ARROW_FILES,\n",
    "            ALL_REQUIRED_CSV_FILES=config.ALL_REQUIRED_CSV_FILES,\n",
    "            REQUIRED_COLUMNS=config.REQUIRED_COLUMNS,\n",
    "            EXPECTED_DATA_TYPES=config.EXPECTED_DATA_TYPES,\n",
    "            MINIMUM_DATA_QUANTITY=config.MINIMUM_DATA_QUANTITY,\n",
    "        )\n",
    "\n",
    "        return data_validation_config"
   ],
   "metadata": {
    "collapsed": false,
    "ExecuteTime": {
     "end_time": "2024-05-28T10:57:20.172601900Z",
     "start_time": "2024-05-28T10:57:20.170249400Z"
    }
   },
   "id": "652d6b2d72781c43"
  },
  {
   "cell_type": "code",
   "execution_count": 49,
   "outputs": [],
   "source": [
    "from text_Summarizer.logging import logger\n",
    "import os\n",
    "import pandas as pd\n",
    "from pathlib import Path\n",
    "\n",
    "\n",
    "class DataValidation:\n",
    "    def __init__(self, config: DataValidationConfig):\n",
    "        self.config = config\n",
    "\n",
    "    def read_status(self) -> bool:\n",
    "        try:\n",
    "            with open(self.config.STATUS_FILE, 'r') as f:\n",
    "                status = f.read().strip()\n",
    "                return status == 'True'\n",
    "        except FileNotFoundError:\n",
    "            return False\n",
    "\n",
    "    def write_status(self, status: bool):\n",
    "        with open(self.config.STATUS_FILE, 'w') as f:\n",
    "            f.write(str(status))\n",
    "\n",
    "    def validate_all_files_exist_DataDict(self) -> bool:\n",
    "        try:\n",
    "            validation_status = True\n",
    "            all_files = os.listdir(os.path.join(\"artifacts\", \"data_ingestion\", \"samsum_dataset\"))\n",
    "            logger.info(f\"All files in the dataset directory: {all_files}\")\n",
    "            for required_file in self.config.ALL_REQUIRED_ARROW_FILES:\n",
    "                if required_file not in all_files:\n",
    "                    validation_status = False\n",
    "                    logger.error(\n",
    "                        f\"Validation status: {validation_status}. Missing file for the required Dataset Dictionary: {required_file}\")\n",
    "                    break\n",
    "\n",
    "            if validation_status:\n",
    "                logger.info(\n",
    "                    \"Validation status: True. All required files are present for the required Dataset Dictionary.\")\n",
    "\n",
    "            self.write_status(validation_status)\n",
    "            return validation_status\n",
    "\n",
    "        except Exception as e:\n",
    "            logger.error(f\"Error occurred while validating all files for Dataset Dictionary: {str(e)}\")\n",
    "            self.write_status(False)\n",
    "            return False\n",
    "\n",
    "    def validate_all_files_exist_csv(self) -> bool:\n",
    "        if not self.read_status():\n",
    "            logger.info(\"Due Previous Validation Status: Skipping Validation of the presence all required CSV files.\")\n",
    "            return False\n",
    "\n",
    "        try:\n",
    "            validation_status = True\n",
    "            for csv_file in self.config.ALL_REQUIRED_CSV_FILES:\n",
    "                csv_file_path = os.path.join(\"artifacts\", \"data_ingestion\", csv_file)\n",
    "                if not os.path.exists(csv_file_path):\n",
    "                    validation_status = False\n",
    "                    logger.error(\n",
    "                        f\"Validation status: {validation_status}. Missing file for the required CSV files: {csv_file}\")\n",
    "                    break\n",
    "\n",
    "            if validation_status:\n",
    "                logger.info(\"Validation status: True. All required CSV files are present.\")\n",
    "\n",
    "            self.write_status(validation_status)\n",
    "            return validation_status\n",
    "\n",
    "        except Exception as e:\n",
    "            logger.error(f\"Error occurred while validating all CSV files: {str(e)}\")\n",
    "            self.write_status(False)\n",
    "            return False\n",
    "\n",
    "    def validate_schema_csv(self) -> bool:\n",
    "        if not self.read_status():\n",
    "            logger.info(\"Due Previous Validation Status: Skipping Schema Validation.\")\n",
    "            return False\n",
    "\n",
    "        try:\n",
    "            for csv_file in self.config.ALL_REQUIRED_CSV_FILES:\n",
    "                csv_file_path = os.path.join(\"artifacts\", \"data_ingestion\", csv_file)\n",
    "\n",
    "                df = pd.read_csv(csv_file_path)\n",
    "                missing_columns = [col for col in self.config.REQUIRED_COLUMNS if col not in df.columns]\n",
    "                if missing_columns:\n",
    "                    logger.error(f\"Schema validation failed for {csv_file}. Missing columns: {missing_columns}\")\n",
    "                    self.write_status(False)\n",
    "                    return False\n",
    "                logger.info(f\"Schema validation passed for {csv_file}.\")\n",
    "\n",
    "            self.write_status(True)\n",
    "            return True\n",
    "        except Exception as e:\n",
    "            logger.error(f\"Error occurred while validating schema: {str(e)}\")\n",
    "            self.write_status(False)\n",
    "            return False\n",
    "\n",
    "    def validate_data_types(self) -> bool:\n",
    "        if not self.read_status():\n",
    "            logger.info(\"Due Previous Validation Status: Skipping Data types Validation.\")\n",
    "            return False\n",
    "\n",
    "        try:\n",
    "            for csv_file in self.config.ALL_REQUIRED_CSV_FILES:\n",
    "                csv_file_path = os.path.join(\"artifacts\", \"data_ingestion\", csv_file)\n",
    "\n",
    "                df = pd.read_csv(csv_file_path)\n",
    "                expected_data_types = self.config.EXPECTED_DATA_TYPES\n",
    "                for col, dtype in expected_data_types.items():\n",
    "                    if df[col].dtype != dtype:\n",
    "                        logger.error(\n",
    "                            f\"Data type validation failed for {csv_file}. Column '{col}' is of type {df[col].dtype}, not of type {dtype}.\")\n",
    "                        self.write_status(False)\n",
    "                        return False\n",
    "                logger.info(f\"Data type validation passed for {csv_file}.\")\n",
    "\n",
    "            self.write_status(True)\n",
    "            return True\n",
    "        except Exception as e:\n",
    "            logger.error(f\"Error occurred while validating data types: {str(e)}\")\n",
    "            self.write_status(False)\n",
    "            return False\n",
    "\n",
    "    def check_missing_values(self) -> bool:\n",
    "        \"\"\"\n",
    "        Checks for missing values in critical columns of the DataFrame.\n",
    "    \n",
    "        Returns:\n",
    "            bool: True if no missing values found, False otherwise.\n",
    "        \"\"\"\n",
    "        if not self.read_status():\n",
    "            logger.info(\"Due Previous Validation Status: Skipping Missing Values Validation.\")\n",
    "            return False\n",
    "        try:\n",
    "            validation_status = True\n",
    "            for csv_file in self.config.ALL_REQUIRED_CSV_FILES:\n",
    "                csv_file_path = os.path.join(\"artifacts\", \"data_ingestion\", csv_file)\n",
    "                df = pd.read_csv(csv_file_path)\n",
    "                missing_values_mask = df[self.config.REQUIRED_COLUMNS].isnull().any(axis=1)\n",
    "                if missing_values_mask.any():\n",
    "                    missing_ids = df.loc[missing_values_mask, \"id\"].tolist()\n",
    "                    logger.error(f\"Missing values found in critical columns of {csv_file}. IDs of affected rows: {missing_ids}\")\n",
    "                    validation_status = False  # Update status to False if missing values are found\n",
    "            if validation_status:\n",
    "                logger.info(\"No missing values found in critical columns of all CSV files.\")\n",
    "            else:\n",
    "                self.write_status(False)  # Write False status if missing values are found\n",
    "            return validation_status\n",
    "        except Exception as e:\n",
    "            logger.error(f\"Error occurred while checking missing values: {str(e)}\")\n",
    "            return False\n",
    "    def check_data_consistency(self) -> bool:\n",
    "        \"\"\"\n",
    "        Checks data consistency within the DataFrame.\n",
    "    \n",
    "        Returns:\n",
    "            bool: True if data is consistent, False otherwise.\n",
    "        \"\"\"\n",
    "        if not self.read_status():\n",
    "            logger.info(\"Due Previous Validation Status: Skipping Data consistency Validation.\")\n",
    "            return False\n",
    "        try:\n",
    "            validation_status = True\n",
    "            for csv_file in self.config.ALL_REQUIRED_CSV_FILES:\n",
    "                csv_file_path = os.path.join(\"artifacts\", \"data_ingestion\", csv_file)\n",
    "                df = pd.read_csv(csv_file_path)\n",
    "                duplicates_mask = df.duplicated(subset=self.config.REQUIRED_COLUMNS, keep=False)\n",
    "                if duplicates_mask.any():\n",
    "                    duplicate_ids = df.loc[duplicates_mask, \"id\"].tolist()\n",
    "                    logger.error(f\"Duplicate entries found in {csv_file}. IDs of affected rows: {duplicate_ids}\")\n",
    "                    validation_status = False  # Update status to False if duplicates are found\n",
    "            if validation_status:\n",
    "                logger.info(\"No duplicate entries found in any CSV file.\")\n",
    "            else:\n",
    "                self.write_status(False)  # Write False status if duplicates are found\n",
    "            return validation_status\n",
    "        except Exception as e:\n",
    "            logger.error(f\"Error occurred while checking data consistency: {str(e)}\")\n",
    "            return False\n",
    "\n",
    "    def check_data_quantity(self) -> bool:\n",
    "        \"\"\"\n",
    "        Checks if the quantity of data meets the requirements.\n",
    "    \n",
    "        Returns:\n",
    "            bool: True if data quantity meets the requirements, False otherwise.\n",
    "        \"\"\"\n",
    "        if not self.read_status():\n",
    "            logger.info(\"Due Previous Validation Status: Skipping Data Quantity Validation.\")\n",
    "            return False\n",
    "        try:\n",
    "            validation_status = True\n",
    "            for csv_file in self.config.ALL_REQUIRED_CSV_FILES:\n",
    "                csv_file_path = os.path.join(\"artifacts\", \"data_ingestion\", csv_file)\n",
    "                df = pd.read_csv(csv_file_path)\n",
    "                dataset_type = csv_file.split(\"-\")[1].split(\".\")[0]\n",
    "                min_data_quantity_key = f\"MINIMUM_DATA_QUANTITY.{dataset_type}\"\n",
    "                min_data_quantity = getattr(self.config, min_data_quantity_key, 0)\n",
    "                if len(df) < min_data_quantity:\n",
    "                    logger.error(f\"Insufficient data in {csv_file}. Expected at least {min_data_quantity} examples, but found {len(df)} examples.\")\n",
    "                    validation_status = False  # Update status to False if data quantity is insufficient\n",
    "                else:\n",
    "                    logger.info(f\"Sufficient data quantity found in {csv_file}. Number of examples: {len(df)}\")\n",
    "            if not validation_status:\n",
    "                self.write_status(False)  # Write False status if data quantity is insufficient\n",
    "            return validation_status\n",
    "        except Exception as e:\n",
    "            logger.error(f\"Error occurred while checking data quantity: {str(e)}\")\n",
    "            return False\n"
   ],
   "metadata": {
    "collapsed": false,
    "ExecuteTime": {
     "end_time": "2024-05-28T11:06:57.802006700Z",
     "start_time": "2024-05-28T11:06:57.681084700Z"
    }
   },
   "id": "936c94deb0e282f3"
  },
  {
   "cell_type": "markdown",
   "source": [],
   "metadata": {
    "collapsed": false
   },
   "id": "27da8013d46821e8"
  },
  {
   "cell_type": "code",
   "execution_count": 51,
   "outputs": [
    {
     "name": "stdout",
     "output_type": "stream",
     "text": [
      "[2024-05-28 04:10:41,872: INFO: common: yaml file: config\\config.yaml loaded successfully]\n",
      "[2024-05-28 04:10:41,873: INFO: common: yaml file: params.yaml loaded successfully]\n",
      "[2024-05-28 04:10:41,874: INFO: common: created directory at: artifacts]\n",
      "[2024-05-28 04:10:41,875: INFO: common: created directory at: artifacts/data_validation]\n",
      "[2024-05-28 04:10:41,875: INFO: 3515976879: All files in the dataset directory: ['dataset_dict.json', 'test', 'train', 'validation']]\n",
      "[2024-05-28 04:10:41,876: INFO: 3515976879: Validation status: True. All required files are present for the required Dataset Dictionary.]\n",
      "[2024-05-28 04:10:41,877: INFO: 3515976879: Validation status: True. All required CSV files are present.]\n",
      "[2024-05-28 04:10:42,004: INFO: 3515976879: Schema validation passed for samsum-train.csv.]\n",
      "[2024-05-28 04:10:42,016: INFO: 3515976879: Schema validation passed for samsum-test.csv.]\n",
      "[2024-05-28 04:10:42,027: INFO: 3515976879: Schema validation passed for samsum-validation.csv.]\n",
      "[2024-05-28 04:10:42,144: INFO: 3515976879: Data type validation passed for samsum-train.csv.]\n",
      "[2024-05-28 04:10:42,156: INFO: 3515976879: Data type validation passed for samsum-test.csv.]\n",
      "[2024-05-28 04:10:42,166: INFO: 3515976879: Data type validation passed for samsum-validation.csv.]\n",
      "[2024-05-28 04:10:42,307: INFO: 3515976879: No missing values found in critical columns of all CSV files.]\n",
      "[2024-05-28 04:10:42,472: INFO: 3515976879: No duplicate entries found in any CSV file.]\n",
      "[2024-05-28 04:10:42,596: INFO: 3515976879: Sufficient data quantity found in samsum-train.csv. Number of examples: 14731]\n",
      "[2024-05-28 04:10:42,609: INFO: 3515976879: Sufficient data quantity found in samsum-test.csv. Number of examples: 819]\n",
      "[2024-05-28 04:10:42,619: INFO: 3515976879: Sufficient data quantity found in samsum-validation.csv. Number of examples: 818]\n"
     ]
    }
   ],
   "source": [
    "try:\n",
    "    config = ConfigurationManager()\n",
    "    data_validation_config = config.get_data_validation_config()\n",
    "    data_validation = DataValidation(config=data_validation_config)\n",
    "    data_validation.validate_all_files_exist_DataDict()\n",
    "    data_validation.validate_all_files_exist_csv()\n",
    "    data_validation.validate_schema_csv()\n",
    "    data_validation.validate_data_types()\n",
    "    data_validation.check_missing_values()\n",
    "    data_validation.check_data_consistency()\n",
    "    data_validation.check_data_quantity()\n",
    "    \n",
    "except Exception as e:\n",
    "    raise e"
   ],
   "metadata": {
    "collapsed": false,
    "ExecuteTime": {
     "end_time": "2024-05-28T11:10:42.625313300Z",
     "start_time": "2024-05-28T11:10:41.871585600Z"
    }
   },
   "id": "be8c69cc7f854881"
  },
  {
   "cell_type": "code",
   "execution_count": 7,
   "outputs": [],
   "source": [],
   "metadata": {
    "collapsed": false,
    "ExecuteTime": {
     "end_time": "2024-05-28T09:47:25.084277400Z",
     "start_time": "2024-05-28T09:47:25.079374700Z"
    }
   },
   "id": "4a17b54a513e2f16"
  }
 ],
 "metadata": {
  "kernelspec": {
   "display_name": "Python 3",
   "language": "python",
   "name": "python3"
  },
  "language_info": {
   "codemirror_mode": {
    "name": "ipython",
    "version": 2
   },
   "file_extension": ".py",
   "mimetype": "text/x-python",
   "name": "python",
   "nbconvert_exporter": "python",
   "pygments_lexer": "ipython2",
   "version": "2.7.6"
  }
 },
 "nbformat": 4,
 "nbformat_minor": 5
}
